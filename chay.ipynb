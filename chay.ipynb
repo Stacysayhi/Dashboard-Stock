{
 "cells": [
  {
   "cell_type": "raw",
   "source": [
    "---\n",
    "title: Gói 1\n",
    "description: Làm bài đi\n",
    "show-code: False\n",
    "params:\n",
    "    ticker_textbox:\n",
    "        type: text\n",
    "        label: Nhập mã cổ phiếu\n",
    "        value: symbol_to_lookup\n",
    "        rows: 1\n",
    "    hienkq:\n",
    "        type: checkbox\n",
    "        label: Hiện kết quả đã chọn\n",
    "        value: True\n",
    "    select_variable:\n",
    "        label: Chọn các tỉ số\n",
    "        input: multi select\n",
    "        value: ['Liquity']\n",
    "    select_variable1:\n",
    "        label: Chọn các báo cáo\n",
    "        input: multi select\n",
    "        choices: ['CĐKT','KQKD','LCTT',\"TM BCTT\",'BCTCKH']\n",
    "\n",
    "\n",
    "--- "
   ],
   "metadata": {
    "collapsed": false
   },
   "id": "ef3ad1529a86bb5f"
  },
  {
   "cell_type": "code",
   "execution_count": 1,
   "outputs": [],
   "source": [
    "import numpy as np\n",
    "import pandas as pd\n",
    "import seaborn as sn\n",
    "from plotly.subplots import make_subplots\n",
    "import plotly.graph_objects as go\n",
    "import mercury as mr\n",
    "from tabulate import tabulate"
   ],
   "metadata": {
    "collapsed": false,
    "ExecuteTime": {
     "end_time": "2023-12-14T15:10:06.185338700Z",
     "start_time": "2023-12-14T15:10:05.905188900Z"
    }
   },
   "id": "7b4c821b0a5d3a1b"
  },
  {
   "cell_type": "code",
   "execution_count": 2,
   "outputs": [
    {
     "data": {
      "text/plain": "mercury.App",
      "text/html": "<h3>Mercury Application</h3><small>This output won't appear in the web app.</small>",
      "application/mercury+json": "{\n    \"widget\": \"App\",\n    \"title\": \"G\\u00f3i 1\",\n    \"description\": \"L\\u00e0m b\\u00e0i \\u0111i\",\n    \"show_code\": false,\n    \"show_prompt\": false,\n    \"output\": \"app\",\n    \"schedule\": \"\",\n    \"notify\": \"{}\",\n    \"continuous_update\": true,\n    \"static_notebook\": false,\n    \"show_sidebar\": true,\n    \"full_screen\": true,\n    \"allow_download\": true,\n    \"stop_on_error\": false,\n    \"model_id\": \"mercury-app\",\n    \"code_uid\": \"App.0.40.25.1-rand5db6c645\"\n}"
     },
     "metadata": {},
     "output_type": "display_data"
    }
   ],
   "source": [
    "app = mr.App(title=\"Gói 1\",\n",
    "        description=\"Làm bài đi\",\n",
    "        show_code=False,\n",
    "        show_prompt=False,\n",
    "        continuous_update=True,\n",
    "        static_notebook=False,\n",
    "        show_sidebar=True,\n",
    "        full_screen=True,\n",
    "        allow_download=True,\n",
    "        stop_on_error=False\n",
    ")"
   ],
   "metadata": {
    "collapsed": false,
    "ExecuteTime": {
     "end_time": "2023-12-14T15:10:06.772030300Z",
     "start_time": "2023-12-14T15:10:06.182346600Z"
    }
   },
   "id": "6b537ea8a37d5c7e"
  },
  {
   "cell_type": "code",
   "execution_count": 3,
   "outputs": [],
   "source": [
    "df2018= pd.read_excel('2018-Vietnam.xlsx')\n",
    "df2019= pd.read_excel('2019-Vietnam.xlsx')\n",
    "df2020= pd.read_excel('2020-Vietnam.xlsx')\n",
    "df2021= pd.read_excel('2021-Vietnam.xlsx')\n",
    "df2022= pd.read_excel('2022-Vietnam.xlsx')"
   ],
   "metadata": {
    "collapsed": false,
    "ExecuteTime": {
     "end_time": "2023-12-14T15:10:23.227463400Z",
     "start_time": "2023-12-14T15:10:06.772030300Z"
    }
   },
   "id": "a135cf85601c2c93"
  },
  {
   "cell_type": "code",
   "execution_count": 4,
   "outputs": [],
   "source": [
    "df2018_copy = df2018.copy()\n",
    "df2019_copy = df2019.copy()\n",
    "df2020_copy = df2020.copy()\n",
    "df2021_copy = df2021.copy()\n",
    "df2022_copy = df2022.copy()"
   ],
   "metadata": {
    "collapsed": false,
    "ExecuteTime": {
     "end_time": "2023-12-14T15:10:23.282520300Z",
     "start_time": "2023-12-14T15:10:23.228459300Z"
    }
   },
   "id": "9eeec867a58f7b61"
  },
  {
   "cell_type": "code",
   "execution_count": 5,
   "outputs": [],
   "source": [
    "#Tỷ số thanh khoản\n",
    "def tinh_ty_so_thanh_toan_hien_hanh(CA, TA):\n",
    "    CR = CA / TA\n",
    "    return CR\n",
    "def tinh_ty_so_thanh_toan_nhanh(CA,In,TA):\n",
    "    QR = (CA - In) / TA\n",
    "    return QR\n",
    "#Tỷ số quản lý tài sản\n",
    "def vong_quay_hang_ton_kho(Sales,In):\n",
    "    In_TO =  Sales / In\n",
    "    return In_TO\n",
    "def ky_thu_tien_binh_quan(AR,Sales):\n",
    "    DSO = AR / (Sales/365)\n",
    "    return DSO\n",
    "def vong_quay_TSCD(Sales,Net_fixed_assets):\n",
    "    FA_turnover = Sales / Net_fixed_assets\n",
    "    return FA_turnover\n",
    "def vong_quay_TTS(Sales,TA):\n",
    "    TA_turnover = Sales / TA\n",
    "    return TA_turnover\n",
    "#Tỷ số quản lý nợ\n",
    "def ty_so_no_vay(Total_debt,TA):\n",
    "    Debt_ratio = Total_debt / TA\n",
    "    return Debt_ratio\n",
    "def he_so_chi_tra_lai(EBIT,IE):\n",
    "    TIE = EBIT / IE\n",
    "    return TIE\n",
    "def he_so_kha_nang_tra_no(EBITDA,tttienthue,laivay,no_goc):\n",
    "\tEBITDA_coverage= (EBITDA + tttienthue) / (laivay+tttienthue+no_goc)\n",
    "\treturn EBITDA_coverage\n",
    "#Tỷ số sinh lợi\n",
    "def ty_le_lai_gop(Gross_profit,Sales):\n",
    "    Gross_profit_margin = Gross_profit / Sales\n",
    "    return Gross_profit_margin\n",
    "def ty_le_lai_rong(Net_income,Sales):\n",
    "    Net_profit_margin = Net_income / Sales\n",
    "    return Net_profit_margin\n",
    "def ty_le_loi_nhuan_hoat_dong(EBIT,Sales):\n",
    "    Operating_margin = EBIT / Sales\n",
    "    return Operating_margin\n",
    "def ROA(Net_income,TA):\n",
    "    ROA = Net_income / TA\n",
    "    return ROA\n",
    "def ROE(Net_income,CE):\n",
    "    ROE = Net_income / CE\n",
    "    return ROE\n",
    "def ROIC(EBIT,T,Debt,Equity):\n",
    "    ROIC = (EBIT*(1-T)) / (Debt+Equity)\n",
    "    return ROIC\n",
    "def BEP(EBIT,TA):\n",
    "    BEP = EBIT / TA\n",
    "    return BEP\n",
    "def he_so_nhan(TA,Equity):\n",
    "    EM = TA / Equity\n",
    "    return EM\n",
    "def DUPONT_EQUATION(Net_profit_margin,TA_turnover,EM):\n",
    "    ROEE = Net_profit_margin * TA_turnover * EM\n",
    "    return ROEE\n"
   ],
   "metadata": {
    "collapsed": false,
    "ExecuteTime": {
     "end_time": "2023-12-14T15:10:23.297600300Z",
     "start_time": "2023-12-14T15:10:23.266252500Z"
    }
   },
   "id": "93e7f84195a9f4cb"
  },
  {
   "cell_type": "code",
   "execution_count": 6,
   "outputs": [],
   "source": [
    "dfinfo= pd.read_excel('Price-Vol VN 2015-2023.xlsx', sheet_name=\"Info\")\n",
    "dfprice= pd.read_excel('Price-Vol VN 2015-2023.xlsx', sheet_name=\"Price\")\n",
    "dfvolume= pd.read_excel('Price-Vol VN 2015-2023.xlsx', sheet_name=\"Volume\")"
   ],
   "metadata": {
    "collapsed": false,
    "ExecuteTime": {
     "end_time": "2023-12-14T15:11:21.191624Z",
     "start_time": "2023-12-14T15:10:23.291059500Z"
    }
   },
   "id": "db4431b89e590997"
  },
  {
   "cell_type": "code",
   "execution_count": 7,
   "outputs": [],
   "source": [
    "dfinfo_copy = dfinfo.copy()\n",
    "dfprice_copy = dfprice.copy()\n",
    "dfvolume_copy = dfvolume.copy()\n",
    "dfinfo_copy =dfinfo_copy.rename(columns ={'Symbol': \"Code\"})\n",
    "dfb=[dfinfo_copy,dfprice_copy,dfvolume_copy]"
   ],
   "metadata": {
    "collapsed": false,
    "ExecuteTime": {
     "end_time": "2023-12-14T15:11:21.240124700Z",
     "start_time": "2023-12-14T15:11:21.193619100Z"
    }
   },
   "id": "5a8b95fc6da3a449"
  },
  {
   "cell_type": "code",
   "execution_count": 8,
   "outputs": [],
   "source": [
    "for df in dfb:\n",
    "    df['Code'] = df['Code'].str.replace('VT:', '')\n",
    "    df['Code'] = df['Code'].str.replace('(VO)', '')\n",
    "    df['Code'] = df['Code'].str.replace('(P)', '')\n",
    "    df.sort_values('Code', inplace=True)\n",
    "    df.reset_index(drop=True, inplace=True)\n",
    "    df.columns = df.columns.astype(str)  # Chuyển đổi tên cột thành kiểu dữ liệu chuỗi\n",
    "    df.drop(df.columns[2], axis=1, inplace=True)\n",
    "df1 = dfb[1]  # Lấy phần tử thứ hai của danh sách dfb\n",
    "df2 = dfb[2]  # Lấy phần tử thứ ba của danh sách dfb\n",
    "df3=dfb[0]\n",
    "#df3: infp\n",
    "#df2: volume\n",
    "#df1:price"
   ],
   "metadata": {
    "collapsed": false,
    "ExecuteTime": {
     "end_time": "2023-12-14T15:11:21.299026700Z",
     "start_time": "2023-12-14T15:11:21.230610Z"
    }
   },
   "id": "16f96c114a2bbb91"
  },
  {
   "cell_type": "code",
   "execution_count": 9,
   "outputs": [],
   "source": [
    "df1 =df1.rename(columns ={'Code': \"Date\"})\n",
    "df1= df1.drop(\"Name\", axis=1)\n",
    "df1 = df1.transpose()\n",
    "new_header = df1.iloc[0]\n",
    "df1 = df1[1:]\n",
    "df1.columns = new_header\n",
    "df1 = df1.reset_index()\n",
    "df1 = df1.rename(columns={'index': 'Date'})\n",
    "df1= df1.sort_values(by='Date', ascending=True)\n",
    "df1['Date'] = pd.to_datetime(df1['Date']).dt.strftime('%Y/%m/%d')\n",
    "#print('------------------------')\n",
    "df2 =df2.rename(columns ={'Code': \"Date\"})\n",
    "df2= df2.drop(\"Name\", axis=1)\n",
    "df2 = df2.transpose()\n",
    "new_header = df2.iloc[0]\n",
    "df2 = df2[1:]\n",
    "df2.columns = new_header\n",
    "df2 = df2.reset_index()\n",
    "df2= df2.rename(columns={'index': 'Date'})\n",
    "df2= df2.sort_values(by='Date', ascending=True)\n",
    "df2['Date'] = pd.to_datetime(df2['Date']).dt.strftime('%Y/%m/%d')"
   ],
   "metadata": {
    "collapsed": false,
    "ExecuteTime": {
     "end_time": "2023-12-14T15:11:22.655274300Z",
     "start_time": "2023-12-14T15:11:21.302018200Z"
    }
   },
   "id": "300768b58d2d582d"
  },
  {
   "cell_type": "code",
   "execution_count": 10,
   "outputs": [],
   "source": [
    "in4_column = df3[['Code', 'Start Date']].copy()\n",
    "in4_column['Start Date'] = pd.to_datetime(in4_column['Start Date']).dt.strftime('%Y/%m/%d')"
   ],
   "metadata": {
    "collapsed": false,
    "ExecuteTime": {
     "end_time": "2023-12-14T15:11:22.709002800Z",
     "start_time": "2023-12-14T15:11:22.659311300Z"
    }
   },
   "id": "4e7b0467d5c72e89"
  },
  {
   "cell_type": "code",
   "execution_count": 11,
   "outputs": [],
   "source": [
    "dfa = [df2018_copy, df2019_copy, df2020_copy, df2021_copy, df2022_copy]\n",
    "for df in dfa:\n",
    "    df.drop(df.index[:7], inplace=True)\n",
    "    df.columns = df.iloc[0]\n",
    "    df.drop(df.index[0], inplace=True)\n",
    "    df.reset_index(drop=True, inplace=True)\n",
    "    df.rename_axis(\"Số index\", axis=1, inplace=True)\n",
    "    df.sort_index(axis=0, inplace=True)\n",
    "\n",
    "for df in dfa:\n",
    "     df.drop(df.columns[[4, 5, 6,8,9,10]], axis=1, inplace=True)\n",
    "\n",
    "for df in dfa:\n",
    "    columns = df.columns\n",
    "    columns = [col.replace('\\nHợp nhất\\nQuý: Hàng năm\\nNăm:', '') for col in columns]\n",
    "    df.columns = columns\n",
    "\n",
    "for df in dfa:\n",
    "    columns = df.columns\n",
    "    columns = [col.replace('\\nĐơn vị: Triệu VND', '') for col in columns]\n",
    "    df.columns = columns\n",
    "\n",
    "df = dfa[0]\n",
    "for i in range(1, len(dfa)):\n",
    "    df = pd.merge(df, dfa[i], on=['Mã', 'STT', 'Sàn', 'Tên công ty', 'Ngành ICB - cấp 4'])\n",
    "\n",
    "df.sort_values('Mã', inplace=True)\n",
    "df.reset_index(drop=True, inplace=True)\n",
    "df.columns = df.columns.astype(str)  # Chuyển đổi tên cột thành kiểu dữ liệu chuỗi\n",
    "df.rename(columns={'STT': 'STT1'}, inplace=True)\n",
    "\n"
   ],
   "metadata": {
    "collapsed": false,
    "ExecuteTime": {
     "end_time": "2023-12-14T15:11:22.934689800Z",
     "start_time": "2023-12-14T15:11:22.693810700Z"
    }
   },
   "id": "dc752ef23b13f01c"
  },
  {
   "cell_type": "code",
   "execution_count": 12,
   "outputs": [],
   "source": [
    "#print(df2018_copy.columns)"
   ],
   "metadata": {
    "collapsed": false,
    "ExecuteTime": {
     "end_time": "2023-12-14T15:11:22.949968100Z",
     "start_time": "2023-12-14T15:11:22.936310600Z"
    }
   },
   "id": "f49b7696ded3204e"
  },
  {
   "cell_type": "code",
   "execution_count": 13,
   "outputs": [
    {
     "data": {
      "application/vnd.jupyter.widget-view+json": {
       "version_major": 2,
       "version_minor": 0,
       "model_id": "5e930721e42840aea92cbe7257243042"
      },
      "application/mercury+json": "{\n    \"widget\": \"Text\",\n    \"value\": \"HPG\",\n    \"rows\": 1,\n    \"label\": \"Nh\\u1eadp m\\u00e3 c\\u1ed5 phi\\u1ebfu\",\n    \"model_id\": \"5e930721e42840aea92cbe7257243042\",\n    \"code_uid\": \"Text.0.40.15.1-rand734ccbde\",\n    \"url_key\": \"\",\n    \"disabled\": false,\n    \"hidden\": false\n}",
      "text/plain": "mercury.Text"
     },
     "metadata": {},
     "output_type": "display_data"
    }
   ],
   "source": [
    "ticker_textbox=mr.Text(value=\"HPG\",\n",
    "               label=\"Nhập mã cổ phiếu\")"
   ],
   "metadata": {
    "collapsed": false,
    "ExecuteTime": {
     "end_time": "2023-12-14T15:11:23.012719300Z",
     "start_time": "2023-12-14T15:11:22.952961100Z"
    }
   },
   "id": "71f509361eb2fd7a"
  },
  {
   "cell_type": "code",
   "execution_count": 14,
   "outputs": [],
   "source": [
    "symbol_to_lookup = ticker_textbox.value.upper()"
   ],
   "metadata": {
    "collapsed": false,
    "ExecuteTime": {
     "end_time": "2023-12-14T15:11:23.040375500Z",
     "start_time": "2023-12-14T15:11:23.013715500Z"
    }
   },
   "id": "18340e88d2b6d5ca"
  },
  {
   "cell_type": "code",
   "execution_count": 15,
   "outputs": [],
   "source": [
    "symbol_to_lookup = ticker_textbox.value.upper()\n",
    "\n",
    "# Tìm kiếm dữ liệu dựa trên mã symbol\n",
    "result = df3[df3[\"Code\"] == symbol_to_lookup]\n",
    "result1=df2018_copy[df2018_copy['Mã']==symbol_to_lookup]\n",
    "# Lấy giá trị ngành từ kết quả tìm kiếm\n",
    "industry = result1[\"Ngành ICB - cấp 4\"].values[0]\n",
    "\n",
    "# Tìm các mã có cùng ngành\n",
    "selected_companies = df2018_copy[df2018_copy['Ngành ICB - cấp 4'] == industry]['Mã'].values\n",
    "# Xuất tên công ty và ngành công nghiệp\n",
    "company_name = result[\"Name\"].values[0]\n",
    "industry = result[\"Sector\"].values[0]\n",
    "start_date=result['Start Date'].values[0]\n",
    "exchange=result1['Sàn'].values[0]\n",
    "ma_nganh=result1['Ngành ICB - cấp 4'].values[0]\n",
    "# print(f\"Tên công ty: {company_name}\")\n",
    "# print(f\"Ngành công nghiệp: {industry}\")\n",
    "# print(f\"Ngày niêm yết: {start_date}\")\n",
    "# print(f\"Mã sàn: {exchange}\")\n",
    "# print(f\"Thuộc ngành: {ma_nganh}\")\n",
    "# print(\"Các mã có cùng ngành:\")\n",
    "# df_selected_companies = pd.DataFrame(data=selected_companies, columns=[\"Các mã có cùng ngành\"])\n",
    "# table = tabulate(df_selected_companies, headers='keys', tablefmt='psql')\n",
    "# print(table)"
   ],
   "metadata": {
    "collapsed": false,
    "ExecuteTime": {
     "end_time": "2023-12-14T15:11:23.057991900Z",
     "start_time": "2023-12-14T15:11:23.032602Z"
    }
   },
   "id": "a8b0c6bb4135830b"
  },
  {
   "cell_type": "code",
   "execution_count": 16,
   "outputs": [
    {
     "data": {
      "text/plain": "<bloxs.bloxs.B at 0x2362ed463e0>",
      "text/html": "<div style=\"display: flex; background: #fff\">\n<div style=\"text-align: center; width: 34%; border: 1px solid #e5e5e5; margin: 10px; padding-top: 40px; padding-bottom: 40px; background: white; border-radius:5px\">\n  <span style=\"font-size: 4em; color: #5a5a5a; font-family: monospace; \"><div style=\"background-color: blue; color: white; width: 200px; height: 200px; text-align: center; font-size: 30px;\">HOA PHAT GROUP</div></span>\n  \n  <span style=\"font-size: 2em; color: gray; display: block; padding-top: 20px; font-family: monospace; line-height: 1.3em;\"><strong>Tên doanh nghiệp</strong></span>\n  \n  \n  \n</div>\n  \n<div style=\"text-align: center; width: 34%; border: 1px solid #e5e5e5; margin: 10px; padding-top: 40px; padding-bottom: 40px; background: white; border-radius:5px\">\n  <span style=\"font-size: 4em; color: #5a5a5a; font-family: monospace; \"><div style=\"background-color: green; color: black; width: 200px; height: 200px; text-align: center; font-size: 30px;\">General Industrials</div></span>\n  \n  <span style=\"font-size: 2em; color: gray; display: block; padding-top: 20px; font-family: monospace; line-height: 1.3em;\"><strong>Ngành công nghiệp</strong></span>\n  \n  \n  \n</div>\n  \n<div style=\"text-align: center; width: 34%; border: 1px solid #e5e5e5; margin: 10px; padding-top: 40px; padding-bottom: 40px; background: white; border-radius:5px\">\n  <span style=\"font-size: 4em; color: #5a5a5a; font-family: monospace; \"><div style=\"background-color: yellow; color: black; width: 200px; height: 200px; text-align: center; font-size: 30px;\">Thép và sản phẩm thép</div></span>\n  \n  <span style=\"font-size: 2em; color: gray; display: block; padding-top: 20px; font-family: monospace; line-height: 1.3em;\"><strong>Thuộc nhóm ngành</strong></span>\n  \n  \n  \n</div>\n  \n<div style=\"text-align: center; width: 34%; border: 1px solid #e5e5e5; margin: 10px; padding-top: 40px; padding-bottom: 40px; background: white; border-radius:5px\">\n  <span style=\"font-size: 4em; color: #5a5a5a; font-family: monospace; \"><div style=\"background-color: red; color: white; width: 200px; height: 200px; text-align: center; font-size: 30px;\">HOSE</div></span>\n  \n  <span style=\"font-size: 2em; color: gray; display: block; padding-top: 20px; font-family: monospace; line-height: 1.3em;\"><strong>Mã sàn</strong></span>\n  \n  \n  \n</div>\n  \n<div style=\"text-align: center; width: 34%; border: 1px solid #e5e5e5; margin: 10px; padding-top: 40px; padding-bottom: 40px; background: white; border-radius:5px\">\n  <span style=\"font-size: 4em; color: #5a5a5a; font-family: monospace; \"><div style=\"background-color: orange; color: black; width: 200px; height: 200px; text-align: center; font-size: 30px;\">11/15/2007</div></span>\n  \n  <span style=\"font-size: 2em; color: gray; display: block; padding-top: 20px; font-family: monospace; line-height: 1.3em;\"><strong>Ngày niêm yết</strong></span>\n  \n  \n  \n</div>\n  </div>"
     },
     "execution_count": 16,
     "metadata": {},
     "output_type": "execute_result"
    }
   ],
   "source": [
    "from bloxs import B\n",
    "\n",
    "# display boxes\n",
    "B([\n",
    "    B(data=f'<div style=\"background-color: blue; color: white; width: 200px; height: 200px; text-align: center; font-size: 30px;\">{company_name}</div>', title=\"<strong>Tên doanh nghiệp</strong>\"),\n",
    "    B(data=f'<div style=\"background-color: green; color: black; width: 200px; height: 200px; text-align: center; font-size: 30px;\">{industry}</div>', title=\"<strong>Ngành công nghiệp</strong>\"),\n",
    "    B(data=f'<div style=\"background-color: yellow; color: black; width: 200px; height: 200px; text-align: center; font-size: 30px;\">{ma_nganh}</div>', title=\"<strong>Thuộc nhóm ngành</strong>\"),\n",
    "    B(data=f'<div style=\"background-color: red; color: white; width: 200px; height: 200px; text-align: center; font-size: 30px;\">{exchange}</div>', title=\"<strong>Mã sàn</strong>\"),\n",
    "    B(data=f'<div style=\"background-color: orange; color: black; width: 200px; height: 200px; text-align: center; font-size: 30px;\">{start_date}</div>', title=\"<strong>Ngày niêm yết</strong>\"),\n",
    "])"
   ],
   "metadata": {
    "collapsed": false,
    "ExecuteTime": {
     "end_time": "2023-12-14T15:11:23.081422500Z",
     "start_time": "2023-12-14T15:11:23.049053500Z"
    }
   },
   "id": "2f823413eb8f6cf5"
  },
  {
   "cell_type": "code",
   "execution_count": 17,
   "outputs": [
    {
     "name": "stdout",
     "output_type": "stream",
     "text": [
      "Danh sách các mã có cùng ngành:\n",
      "Bảng 1 (Từ 1 đến 30, Tổng số 30)\n",
      "+----+------------------------+\n",
      "|    | Các mã có cùng ngành   |\n",
      "|----+------------------------|\n",
      "|  0 | HPG                    |\n",
      "|  1 | DTL                    |\n",
      "|  2 | HMC                    |\n",
      "|  3 | HSG                    |\n",
      "|  4 | NKG                    |\n",
      "|  5 | POM                    |\n",
      "|  6 | SHA                    |\n",
      "|  7 | SHI                    |\n",
      "|  8 | SMC                    |\n",
      "|  9 | TLH                    |\n",
      "| 10 | TNA                    |\n",
      "| 11 | TNI                    |\n",
      "| 12 | VCA                    |\n",
      "| 13 | ITQ                    |\n",
      "| 14 | KKC                    |\n",
      "| 15 | KMT                    |\n",
      "| 16 | MEL                    |\n",
      "| 17 | MHL                    |\n",
      "| 18 | SSM                    |\n",
      "| 19 | TKG                    |\n",
      "| 20 | VGS                    |\n",
      "| 21 | BCA                    |\n",
      "| 22 | BVG                    |\n",
      "| 23 | CBI                    |\n",
      "| 24 | DFC                    |\n",
      "| 25 | DPS                    |\n",
      "| 26 | GDA                    |\n",
      "| 27 | HLA                    |\n",
      "| 28 | HMG                    |\n",
      "| 29 | HSV                    |\n",
      "+----+------------------------+\n",
      "\n",
      "Bảng 2 (Từ 31 đến 43, Tổng số 43)\n",
      "+----+------------------------+\n",
      "|    | Các mã có cùng ngành   |\n",
      "|----+------------------------|\n",
      "| 30 | HTS                    |\n",
      "| 31 | KTL                    |\n",
      "| 32 | KVC                    |\n",
      "| 33 | PAS                    |\n",
      "| 34 | TDS                    |\n",
      "| 35 | TIS                    |\n",
      "| 36 | TMG                    |\n",
      "| 37 | TNB                    |\n",
      "| 38 | TNS                    |\n",
      "| 39 | TTS                    |\n",
      "| 40 | TVN                    |\n",
      "| 41 | VDT                    |\n",
      "| 42 | VGL                    |\n",
      "+----+------------------------+\n"
     ]
    }
   ],
   "source": [
    "\n",
    "\n",
    "print(\"Danh sách các mã có cùng ngành:\")\n",
    "df_selected_companies = pd.DataFrame(data=selected_companies, columns=[\"Các mã có cùng ngành\"])\n",
    "num_rows = len(df_selected_companies)\n",
    "\n",
    "if num_rows <= 30:\n",
    "    # In bảng đơn\n",
    "    table = tabulate(df_selected_companies, headers='keys', tablefmt='psql')\n",
    "    print(table)\n",
    "else:\n",
    "    # Tách danh sách thành các phần\n",
    "    num_parts = (num_rows // 30) + 1\n",
    "    for i in range(num_parts):\n",
    "        start_idx = i * 30\n",
    "        end_idx = min((i + 1) * 30, num_rows)\n",
    "        df_part = df_selected_companies.iloc[start_idx:end_idx]\n",
    "\n",
    "        # Đánh dấu số tiếp theo\n",
    "        if i == num_parts - 1:\n",
    "            title = f\"Bảng {i+1} (Từ {start_idx+1} đến {end_idx}, Tổng số {end_idx})\"\n",
    "        else:\n",
    "            title = f\"Bảng {i+1} (Từ {start_idx+1} đến {end_idx}, Tổng số 30)\"\n",
    "        print(title)\n",
    "        table = tabulate(df_part, headers='keys', tablefmt='psql')\n",
    "        print(table)\n",
    "        print()\n",
    "        \n",
    "    "
   ],
   "metadata": {
    "collapsed": false,
    "ExecuteTime": {
     "end_time": "2023-12-14T15:11:23.162490600Z",
     "start_time": "2023-12-14T15:11:23.063084400Z"
    }
   },
   "id": "230b0f8a32d2bf91"
  },
  {
   "cell_type": "code",
   "execution_count": 18,
   "outputs": [
    {
     "name": "stdout",
     "output_type": "stream",
     "text": [
      "Historic stock price 📈\n"
     ]
    },
    {
     "data": {
      "text/plain": "<Figure size 640x480 with 2 Axes>",
      "image/png": "[encoded data removed]"
     },
     "metadata": {},
     "output_type": "display_data"
    }
   ],
   "source": [
    "print('Historic stock price 📈')\n",
    "import matplotlib.pyplot as plt\n",
    "filtered_df = in4_column.loc[in4_column['Code'] == symbol_to_lookup]\n",
    "if not filtered_df.empty:\n",
    "    # Truy cập cột 'Start Date' của DataFrame lọc\n",
    "    start_date = filtered_df['Start Date'].values[0]\n",
    "\n",
    "    # Lọc các hàng từ 'start date' trở về sau trong DataFrame 'df'\n",
    "    filtered_date_df = df1.loc[df1['Date'] >= start_date]\n",
    "\n",
    "    # Kiểm tra nếu DataFrame lọc không rỗng\n",
    "    if not filtered_date_df.empty:\n",
    "        # Kiểm tra tên cột 'a' có tồn tại trong DataFrame lọc hay không\n",
    "        if symbol_to_lookup in filtered_date_df.columns:\n",
    "            # Truy cập cột 'a' của DataFrame lọc\n",
    "            close_price = filtered_date_df[symbol_to_lookup]\n",
    "\n",
    "            # Tạo DataFrame mới từ cột 'Start Date' và 'a'\n",
    "            merged_df = pd.DataFrame({'Start Date': filtered_date_df['Date'], symbol_to_lookup: close_price})\n",
    "\n",
    "            # Lọc các ngày có khối lượng giao dịch\n",
    "            filtered_volume_df = df2.loc[df2[symbol_to_lookup] > 0]\n",
    "\n",
    "            close_price = filtered_date_df[symbol_to_lookup]\n",
    "\n",
    "            # Tạo DataFrame mới từ cột 'Start Date' và 'a'\n",
    "            merged_df = pd.DataFrame({'Start Date': filtered_date_df['Date'], symbol_to_lookup: close_price})\n",
    "    \n",
    "            # Lọc các ngày có khối lượng giao dịch\n",
    "            filtered_volume_df = df2.loc[df2[symbol_to_lookup] > 0]\n",
    "    \n",
    "           # Tạo subplot cho biểu đồ giá đóng cửa và hộp khối lượng giao dịch\n",
    "            fig, axes = plt.subplots(nrows=2, ncols=1, sharex=True)\n",
    "            \n",
    "            # Vẽ biểu đồ giá đóng cửa\n",
    "            axes[0].plot(merged_df['Start Date'], merged_df[symbol_to_lookup], label='Giá đóng cửa', color='blue')\n",
    "            axes[0].set_ylabel('Giá đóng cửa')\n",
    "            axes[0].set_ylim(merged_df[symbol_to_lookup].min(), merged_df[symbol_to_lookup].max())\n",
    "            \n",
    "            # Vẽ biểu đồ hộp khối lượng giao dịch\n",
    "            axes[1].plot(filtered_volume_df['Date'], filtered_volume_df[symbol_to_lookup], label='Khối lượng', color='green')\n",
    "            axes[1].set_xlabel('Ngày')\n",
    "            axes[1].set_ylabel('Khối lượng')\n",
    "            axes[1].set_ylim(filtered_volume_df[symbol_to_lookup].min(), filtered_volume_df[symbol_to_lookup].max())\n",
    "            \n",
    "            # Thiết lập tiêu đề cho toàn bộ biểu đồ\n",
    "            plt.suptitle(f\"Giá đóng cửa và khối lượng giao dịch của cổ phiếu {symbol_to_lookup}\")\n",
    "            \n",
    "            # Tạo layout full màn hình\n",
    "            mng = plt.get_current_fig_manager()\n",
    "            mng.full_screen_toggle()\n",
    "            \n",
    "            # Hiển thị biểu đồ\n",
    "            plt.show()\n",
    "\n",
    "        else:\n",
    "            print(f\"Không tìm thấy cột '{symbol_to_lookup}' trong DataFrame lọc.\")\n",
    "    else:\n",
    "        print(f\"Không tìm thấy dữ liệu từ '{start_date}' trở đi trong DataFrame 'df'.\")\n",
    "else:\n",
    "    print(f\"Không tìm thấy mã '{symbol_to_lookup}' trong DataFrame 'in4_column'.\")"
   ],
   "metadata": {
    "collapsed": false,
    "ExecuteTime": {
     "end_time": "2023-12-14T15:11:44.223476300Z",
     "start_time": "2023-12-14T15:11:23.093966700Z"
    }
   },
   "id": "a8324a11a988f70f"
  },
  {
   "cell_type": "code",
   "execution_count": 19,
   "outputs": [],
   "source": [
    "#df2018_copy.head(10)"
   ],
   "metadata": {
    "collapsed": false,
    "ExecuteTime": {
     "end_time": "2023-12-14T15:11:44.239502Z",
     "start_time": "2023-12-14T15:11:44.217462Z"
    }
   },
   "id": "d0ce45ef10ce2a0a"
  },
  {
   "cell_type": "code",
   "execution_count": 20,
   "outputs": [],
   "source": [
    "# columns_list = df2018_copy.columns\n",
    "# print(columns_list)"
   ],
   "metadata": {
    "collapsed": false,
    "ExecuteTime": {
     "end_time": "2023-12-14T15:11:44.289959300Z",
     "start_time": "2023-12-14T15:11:44.232208500Z"
    }
   },
   "id": "6a3f949d3aff77ca"
  },
  {
   "cell_type": "code",
   "execution_count": 21,
   "outputs": [
    {
     "data": {
      "application/vnd.jupyter.widget-view+json": {
       "version_major": 2,
       "version_minor": 0,
       "model_id": "822892a02def47c0826ff36939f6aa5a"
      },
      "application/mercury+json": "{\n    \"widget\": \"Checkbox\",\n    \"value\": true,\n    \"label\": \"Hi\\u1ec7n k\\u1ebft qu\\u1ea3 \\u0111\\u00e3 ch\\u1ecdn\",\n    \"model_id\": \"822892a02def47c0826ff36939f6aa5a\",\n    \"code_uid\": \"Checkbox.0.40.11.2-randde4ae6ec\",\n    \"url_key\": \"\",\n    \"disabled\": false,\n    \"hidden\": false\n}",
      "text/plain": "mercury.Checkbox"
     },
     "metadata": {},
     "output_type": "display_data"
    }
   ],
   "source": [
    "# Chọn checkbox\n",
    "hienkq = mr.Checkbox(value=True, label=\"Hiện kết quả đã chọn\")"
   ],
   "metadata": {
    "collapsed": false,
    "ExecuteTime": {
     "end_time": "2023-12-14T15:11:44.312547100Z",
     "start_time": "2023-12-14T15:11:44.248992800Z"
    }
   },
   "id": "f5bb074149f63677"
  },
  {
   "cell_type": "code",
   "execution_count": 39,
   "outputs": [
    {
     "data": {
      "application/vnd.jupyter.widget-view+json": {
       "version_major": 2,
       "version_minor": 0,
       "model_id": "ae4e2d0baee440cf9cdd65bfeef77602"
      },
      "application/mercury+json": "{\n    \"widget\": \"MultiSelect\",\n    \"value\": [],\n    \"choices\": [\n        \"C\\u0110KT\",\n        \"KQKD\",\n        \"LCTT\",\n        \"TM BCTT\",\n        \"BCTCKH\"\n    ],\n    \"label\": \"Ch\\u1ecdn c\\u00e1c b\\u00e1o c\\u00e1o\",\n    \"model_id\": \"ae4e2d0baee440cf9cdd65bfeef77602\",\n    \"code_uid\": \"MultiSelect.0.40.16.2-rand4af0a966\",\n    \"url_key\": \"\",\n    \"disabled\": false,\n    \"hidden\": false\n}",
      "text/plain": "mercury.MultiSelect"
     },
     "metadata": {},
     "output_type": "display_data"
    }
   ],
   "source": [
    "cac_bao_cao = ['CĐKT', 'KQKD', 'LCTT', 'TM BCTT', 'BCTCKH']\n",
    "select_variable1 = mr.MultiSelect(\n",
    "    label='Chọn các báo cáo',\n",
    "    choices=cac_bao_cao\n",
    ")\n",
    "years=['2018','2019','2020','2021','2022']\n",
    "\n",
    "import re\n",
    "\n",
    "if hienkq.value:\n",
    "    if 'CĐKT' in select_variable1.value:\n",
    "        print(f'Bảng cân đối kế toán của mã {symbol_to_lookup}')\n",
    "        selected_years = years\n",
    "        df_concat = pd.DataFrame()\n",
    "        for year in selected_years:\n",
    "            df_filtered = globals()[f'df{year}_copy'].loc[globals()[f'df{year}_copy']['Mã'] == symbol_to_lookup]\n",
    "            cdkt_columns = df_filtered.filter(regex=r'^CĐKT', axis=1)\n",
    "            df_melted = cdkt_columns.reset_index().melt(id_vars=['index'], var_name='Cột', value_name='Giá trị')\n",
    "            df_concat = pd.concat([df_concat, df_melted['Giá trị']], axis=1)\n",
    "            df_melted['Tên gọi'] = df_melted['Cột'] # Add the column with the names\n",
    "            df_melted['Tên gọi'] = df_melted['Cột'].apply(lambda x: re.sub(r'2022', '', x).strip())\n",
    "        df_concat.columns = selected_years\n",
    "        df_concat = pd.concat([ df_melted['Tên gọi'],df_concat], axis=1)\n",
    "\n",
    "        # In ra bảng đã sắp xếp\n",
    "        from tabulate import tabulate\n",
    "\n",
    "        # Chuyển đổi DataFrame thành danh sách các hàng\n",
    "        table_data = df_concat.values.tolist()\n",
    "\n",
    "        # Lấy danh sách tên cột\n",
    "        headers = df_concat.columns.tolist()\n",
    "\n",
    "        # Đóng khung bảng và in ra\n",
    "        table = tabulate(table_data, headers, tablefmt='fancy_grid')\n",
    "        print(table)\n",
    "\n",
    "if hienkq.value:\n",
    "    if 'KQKD' in select_variable1.value:\n",
    "        print(f'Bảng báo cáo kết quả kinh doanh của mã {symbol_to_lookup}')\n",
    "        selected_years = years\n",
    "        df_concat = pd.DataFrame()\n",
    "        for year in selected_years:\n",
    "            df_filtered = globals()[f'df{year}_copy'].loc[globals()[f'df{year}_copy']['Mã'] == symbol_to_lookup]\n",
    "            # Lọc các cột có tên bắt đầu bằng \"CĐKT\"\n",
    "            kqkd_columns = df_filtered.filter(regex=r'^KQKD', axis=1)\n",
    "            \n",
    "            # Sử dụng phương thức melt để biến đổi DataFrame\n",
    "            df_melted = kqkd_columns.reset_index().melt(id_vars=['index'], var_name='Cột', value_name='Giá trị')\n",
    "            \n",
    "            # Sắp xếp lại DataFrame theo thứ tự tên cột nằm theo hàng dọc\n",
    "            df_concat = pd.concat([df_concat, df_melted['Giá trị']], axis=1)\n",
    "            df_melted['Tên gọi'] = df_melted['Cột'] # Add the column with the names\n",
    "            df_melted['Tên gọi'] = df_melted['Cột'].apply(lambda x: re.sub(r'2022', '', x).strip())\n",
    "        df_concat.columns = selected_years\n",
    "        df_concat = pd.concat([ df_melted['Tên gọi'],df_concat], axis=1)\n",
    "           # In ra bảng đã sắp xếp\n",
    "        from tabulate import tabulate\n",
    "\n",
    "        # Chuyển đổi DataFrame thành danh sách các hàng\n",
    "        table_data = df_concat.values.tolist()\n",
    "\n",
    "        # Lấy danh sách tên cột\n",
    "        headers = df_concat.columns.tolist()\n",
    "\n",
    "        # Đóng khung bảng và in ra\n",
    "        table = tabulate(table_data, headers, tablefmt='fancy_grid')\n",
    "        print(table)\n",
    "\n",
    "if hienkq.value:\n",
    "    if 'LCTT' in select_variable1.value:\n",
    "        print(f'Bảng lưu chuyển tiền tệ của mã {symbol_to_lookup}')\n",
    "        selected_years = years\n",
    "        df_concat = pd.DataFrame()\n",
    "        for year in selected_years:\n",
    "            df_filtered = globals()[f'df{year}_copy'].loc[globals()[f'df{year}_copy']['Mã'] == symbol_to_lookup]\n",
    "            # Lọc các cột có tên bắt đầu bằng \"CĐKT\"\n",
    "            lctt_columns = df_filtered.filter(regex=r'^LCTT', axis=1)\n",
    "            \n",
    "            # Sử dụng phương thức melt để biến đổi DataFrame\n",
    "            df_melted = lctt_columns.reset_index().melt(id_vars=['index'], var_name='Cột', value_name='Giá trị')\n",
    "            \n",
    "            df_concat = pd.concat([df_concat, df_melted['Giá trị']], axis=1)\n",
    "            df_melted['Tên gọi'] = df_melted['Cột'] # Add the column with the names\n",
    "            df_melted['Tên gọi'] = df_melted['Cột'].apply(lambda x: re.sub(r'2022', '', x).strip())\n",
    "        df_concat.columns = selected_years\n",
    "        df_concat = pd.concat([ df_melted['Tên gọi'],df_concat], axis=1)\n",
    "\n",
    "        # In ra bảng đã sắp xếp\n",
    "        from tabulate import tabulate\n",
    "\n",
    "        # Chuyển đổi DataFrame thành danh sách các hàng\n",
    "        table_data = df_concat.values.tolist()\n",
    "\n",
    "        # Lấy danh sách tên cột\n",
    "        headers = df_concat.columns.tolist()\n",
    "\n",
    "        # Đóng khung bảng và in ra\n",
    "        table = tabulate(table_data, headers, tablefmt='fancy_grid')\n",
    "        print(table)\n",
    "            \n",
    "if hienkq.value:\n",
    "    if 'TM BCTT' in select_variable1.value:\n",
    "        print(f'Bảng thuyết minh báo cáo tiền tệ của mã {symbol_to_lookup}')\n",
    "        selected_years = years\n",
    "        df_concat = pd.DataFrame()\n",
    "        for year in selected_years:\n",
    "            df_filtered = globals()[f'df{year}_copy'].loc[globals()[f'df{year}_copy']['Mã'] == symbol_to_lookup]\n",
    "            # Lọc các cột có tên bắt đầu bằng \"CĐKT\"\n",
    "            tm_columns = df_filtered.filter(regex=r'^TM', axis=1)\n",
    "            \n",
    "            # Sử dụng phương thức melt để biến đổi DataFrame\n",
    "            df_melted = tm_columns.reset_index().melt(id_vars=['index'], var_name='Cột', value_name='Giá trị')\n",
    "            \n",
    "            df_concat = pd.concat([df_concat, df_melted['Giá trị']], axis=1)\n",
    "            df_melted['Tên gọi'] = df_melted['Cột'] # Add the column with the names\n",
    "            df_melted['Tên gọi'] = df_melted['Cột'].apply(lambda x: re.sub(r'2022', '', x).strip())\n",
    "        df_concat.columns = selected_years\n",
    "        df_concat = pd.concat([ df_melted['Tên gọi'],df_concat], axis=1)\n",
    "\n",
    "        # In ra bảng đã sắp xếp\n",
    "        from tabulate import tabulate\n",
    "\n",
    "        # Chuyển đổi DataFrame thành danh sách các hàng\n",
    "        table_data = df_concat.values.tolist()\n",
    "\n",
    "        # Lấy danh sách tên cột\n",
    "        headers = df_concat.columns.tolist()\n",
    "\n",
    "        # Đóng khung bảng và in ra\n",
    "        table = tabulate(table_data, headers, tablefmt='fancy_grid')\n",
    "        print(table)\n",
    "            \n",
    "if hienkq.value:\n",
    "    if 'BCTCKH' in select_variable1.value:\n",
    "        print(f'Bảng báo cáo tài chính kế hoạch của mã {symbol_to_lookup}')\n",
    "        selected_years = years\n",
    "        df_concat = pd.DataFrame()\n",
    "        for year in selected_years:\n",
    "            df_filtered = globals()[f'df{year}_copy'].loc[globals()[f'df{year}_copy']['Mã'] == symbol_to_lookup]\n",
    "            # Lọc các cột có tên bắt đầu bằng \"CĐKT\"\n",
    "            bctckh_columns = df_filtered.filter(regex=r'^BCTCKH', axis=1)\n",
    "            \n",
    "            # Sử dụng phương thức melt để biến đổi DataFrame\n",
    "            df_melted = bctckh_columns.reset_index().melt(id_vars=['index'], var_name='Cột', value_name='Giá trị')\n",
    "            \n",
    "            df_concat = pd.concat([df_concat, df_melted['Giá trị']], axis=1)\n",
    "            df_melted['Tên gọi'] = df_melted['Cột'] # Add the column with the names\n",
    "            df_melted['Tên gọi'] = df_melted['Cột'].apply(lambda x: re.sub(r'2022', '', x).strip())\n",
    "        df_concat.columns = selected_years\n",
    "        df_concat = pd.concat([ df_melted['Tên gọi'],df_concat], axis=1)\n",
    "\n",
    "        # In ra bảng đã sắp xếp\n",
    "        from tabulate import tabulate\n",
    "\n",
    "        # Chuyển đổi DataFrame thành danh sách các hàng\n",
    "        table_data = df_concat.values.tolist()\n",
    "\n",
    "        # Lấy danh sách tên cột\n",
    "        headers = df_concat.columns.tolist()\n",
    "\n",
    "        # Đóng khung bảng và in ra\n",
    "        table = tabulate(table_data, headers, tablefmt='fancy_grid')\n",
    "        print(table)"
   ],
   "metadata": {
    "collapsed": false,
    "ExecuteTime": {
     "end_time": "2023-12-14T15:24:13.713423600Z",
     "start_time": "2023-12-14T15:24:13.679917900Z"
    }
   },
   "id": "71b8816ae069f62c"
  },
  {
   "cell_type": "code",
   "execution_count": 23,
   "outputs": [],
   "source": [
    "ti_so = ['Liquity', 'Assets', 'Management']\n"
   ],
   "metadata": {
    "collapsed": false,
    "ExecuteTime": {
     "end_time": "2023-12-14T15:11:44.413539700Z",
     "start_time": "2023-12-14T15:11:44.372431400Z"
    }
   },
   "id": "89ddfee67bb2c755"
  },
  {
   "cell_type": "code",
   "execution_count": 24,
   "outputs": [
    {
     "name": "stdout",
     "output_type": "stream",
     "text": [
      "Các chỉ số tài chính\n"
     ]
    },
    {
     "data": {
      "application/vnd.jupyter.widget-view+json": {
       "version_major": 2,
       "version_minor": 0,
       "model_id": "bfa2988e8c3a4cbda97c95260ecf2d44"
      },
      "application/mercury+json": "{\n    \"widget\": \"MultiSelect\",\n    \"value\": [\n        \"Liquity\",\n        \"Assets\",\n        \"Management\"\n    ],\n    \"choices\": [\n        \"Liquity\",\n        \"Assets\",\n        \"Management\"\n    ],\n    \"label\": \"Ch\\u1ecdn c\\u00e1c t\\u1ec9 s\\u1ed1\",\n    \"model_id\": \"bfa2988e8c3a4cbda97c95260ecf2d44\",\n    \"code_uid\": \"MultiSelect.0.40.16.4-randc40eb179\",\n    \"url_key\": \"\",\n    \"disabled\": false,\n    \"hidden\": false\n}",
      "text/plain": "mercury.MultiSelect"
     },
     "metadata": {},
     "output_type": "display_data"
    },
    {
     "data": {
      "text/plain": "<Figure size 800x600 with 1 Axes>",
      "image/png": "[encoded data removed]"
     },
     "metadata": {},
     "output_type": "display_data"
    }
   ],
   "source": [
    "import matplotlib.pyplot as plt\n",
    "\n",
    "print('Các chỉ số tài chính')\n",
    "select_variable = mr.MultiSelect(label='Chọn các tỉ số', choices=['Liquity', 'Assets', 'Management'], value=ti_so)\n",
    "\n",
    "if hienkq.value:\n",
    "    if 'Liquity' in select_variable.value:\n",
    "        b = df.loc[df['Mã'] == symbol_to_lookup, 'Mã'].values[0]\n",
    "\n",
    "        start_year = 2018\n",
    "        end_year = 2022\n",
    "\n",
    "        selected_years = range(start_year, end_year + 1)\n",
    "        current_ratios = []\n",
    "        quick_ratios = []\n",
    "\n",
    "        for year in selected_years:\n",
    "            try:\n",
    "                current_ratio = tinh_ty_so_thanh_toan_hien_hanh(df.loc[df['Mã'] == b, f'CĐKT. TÀI SẢN NGẮN HẠN {year}'].values[0], df.loc[df['Mã'] == b, f'CĐKT. TỔNG CỘNG TÀI SẢN {year}'].values[0])\n",
    "                quick_ratio = tinh_ty_so_thanh_toan_nhanh(df.loc[df['Mã'] == b, f'CĐKT. TÀI SẢN NGẮN HẠN {year}'].values[0], df.loc[df['Mã'] == b, f'CĐKT. TỔNG CỘNG TÀI SẢN {year}'].values[0], df.loc[df['Mã'] == b, f'CĐKT. Hàng tồn kho, ròng {year}'].values[0])\n",
    "\n",
    "                current_ratios.append(current_ratio)\n",
    "                quick_ratios.append(quick_ratio)\n",
    "\n",
    "            except IndexError:\n",
    "                print(f\"Giá trị {b} không tồn tại trong cột 'Mã'.\")\n",
    "\n",
    "        # Customize the plot\n",
    "        plt.figure(figsize=(8, 6))  # Adjust the figure size as desired\n",
    "        plt.plot(selected_years, current_ratios, marker='o', label='Current Ratio', linewidth=2)\n",
    "        plt.plot(selected_years, quick_ratios, marker='o', label='Quick Ratio', linewidth=2)\n",
    "        plt.xlabel('Năm')\n",
    "        plt.ylabel('Tỷ số thanh khoản')\n",
    "        plt.title(f'Tỷ số thanh khoản của mã {b}')\n",
    "        plt.xticks(range(start_year, end_year + 1))\n",
    "        plt.legend()\n",
    "        plt.grid(True)  # Add grid lines for better readability\n",
    "        plt.show()\n",
    "    else:\n",
    "        print('')\n",
    "else:\n",
    "    print('')"
   ],
   "metadata": {
    "collapsed": false,
    "ExecuteTime": {
     "end_time": "2023-12-14T15:11:44.639514700Z",
     "start_time": "2023-12-14T15:11:44.393309900Z"
    }
   },
   "id": "2d9270114818c188"
  },
  {
   "cell_type": "code",
   "execution_count": 25,
   "outputs": [
    {
     "name": "stdout",
     "output_type": "stream",
     "text": [
      "Trung bình tỷ số thanh toán hiện hành: 0\n",
      "Trung bình tỷ số thanh toán nhanh: 0\n"
     ]
    }
   ],
   "source": [
    "years = ['2018', '2019', '2020', '2021', '2022']\n",
    "selected_companies = df2018_copy[df2018_copy['Ngành ICB - cấp 4'] == industry]['Mã'].values\n",
    "\n",
    "def tinh_trung_binh_nganh(selected_companies, years):\n",
    "    total_current_ratio = 0\n",
    "    total_quick_ratio = 0\n",
    "    count = 0\n",
    "\n",
    "    for symbol_to_lookup in selected_companies:\n",
    "        b = symbol_to_lookup\n",
    "\n",
    "        for year in years:\n",
    "            try:\n",
    "                current_asset = df.loc[df['Mã'] == b, f'CĐKT. TÀI SẢN NGẮN HẠN {year}'].values[0]\n",
    "                total_asset = df.loc[df['Mã'] == b, f'CĐKT. TỔNG CỘNG TÀI SẢN {year}'].values[0]\n",
    "                inventory = df.loc[df['Mã'] == b, f'CĐKT. Hàng tồn kho, ròng {year}'].values[0]\n",
    "\n",
    "                current_ratio = tinh_ty_so_thanh_toan_hien_hanh(current_asset, total_asset)\n",
    "                quick_ratio = tinh_ty_so_thanh_toan_nhanh(current_asset, inventory, total_asset)\n",
    "\n",
    "                total_current_ratio += current_ratio\n",
    "                total_quick_ratio += quick_ratio\n",
    "                count += 1\n",
    "\n",
    "            except IndexError:\n",
    "                print(f\"Giá trị {b} không tồn tại trong cột 'Mã'.\")\n",
    "\n",
    "    if count > 0:\n",
    "        avg_current_ratio = total_current_ratio / count\n",
    "        avg_quick_ratio = total_quick_ratio / count\n",
    "        return avg_current_ratio, avg_quick_ratio\n",
    "    else:\n",
    "        return 0, 0\n",
    "\n",
    "avg_current_ratio, avg_quick_ratio = tinh_trung_binh_nganh(selected_companies, years)\n",
    "print(\"Trung bình tỷ số thanh toán hiện hành:\", avg_current_ratio)\n",
    "print(\"Trung bình tỷ số thanh toán nhanh:\", avg_quick_ratio)"
   ],
   "metadata": {
    "collapsed": false,
    "ExecuteTime": {
     "end_time": "2023-12-14T15:11:44.697237Z",
     "start_time": "2023-12-14T15:11:44.637515600Z"
    }
   },
   "id": "5172b310bdc14ac6"
  },
  {
   "cell_type": "code",
   "execution_count": 26,
   "outputs": [],
   "source": [
    "def tinh_trung_binh_nganh(selected_companies, selected_years):\n",
    "    total_current_ratio = 0\n",
    "    total_quick_ratio = 0\n",
    "    count = 0\n",
    "\n",
    "    for symbol_to_lookup in selected_companies:\n",
    "        b = symbol_to_lookup\n",
    "\n",
    "        for year in selected_years:\n",
    "            try:\n",
    "                current_asset = df.loc[df['Mã'] == b, f'CĐKT. TÀI SẢN NGẮN HẠN {year}'].values[0]\n",
    "                total_asset = df.loc[df['Mã'] == b, f'CĐKT. TỔNG CỘNG TÀI SẢN {year}'].values[0]\n",
    "                inventory = df.loc[df['Mã'] == b, f'CĐKT. Hàng tồn kho, ròng {year}'].values[0]\n",
    "\n",
    "                current_ratio = tinh_ty_so_thanh_toan_hien_hanh(current_asset, total_asset)\n",
    "                quick_ratio = tinh_ty_so_thanh_toan_nhanh(current_asset, inventory, total_asset)\n",
    "\n",
    "                total_current_ratio += current_ratio\n",
    "                total_quick_ratio += quick_ratio\n",
    "                count += 1\n",
    "\n",
    "            except IndexError:\n",
    "                print(f\"Giá trị {b} không tồn tại trong cột 'Mã'.\")\n",
    "\n",
    "    if count > 0:\n",
    "        avg_current_ratio = total_current_ratio / count\n",
    "        avg_quick_ratio = total_quick_ratio / count\n",
    "        return avg_current_ratio, avg_quick_ratio\n",
    "    else:\n",
    "        return 0, 0"
   ],
   "metadata": {
    "collapsed": false,
    "ExecuteTime": {
     "end_time": "2023-12-14T15:11:44.717231600Z",
     "start_time": "2023-12-14T15:11:44.653976200Z"
    }
   },
   "id": "91e4ba155ea7a52c"
  },
  {
   "cell_type": "code",
   "execution_count": 27,
   "outputs": [
    {
     "data": {
      "text/plain": "<Figure size 1000x600 with 1 Axes>",
      "image/png": "[encoded data removed]"
     },
     "metadata": {},
     "output_type": "display_data"
    }
   ],
   "source": [
    "\n",
    "\n",
    "if hienkq.value:\n",
    "    if 'Assets' in select_variable.value:\n",
    "        b = df.loc[df['Mã'] == symbol_to_lookup, 'Mã'].values[0]\n",
    "    \n",
    "        start_year = 2018\n",
    "        end_year = 2022\n",
    "    \n",
    "        selected_years = range(start_year, end_year + 1)\n",
    "        inventory_ratios = []\n",
    "        DSO_ratios = []\n",
    "        FA_turnover_ratios = []\n",
    "        TA_turnover_ratios = []\n",
    "    \n",
    "        for year in selected_years:\n",
    "            try:\n",
    "                AR = df.loc[df['Mã'] == b, f'CĐKT. Các khoản phải thu ngắn hạn {year}'].values[0] + df.loc[df['Mã'] == b, f'CĐKT. Phải thu dài hạn {year}'].values[0]\n",
    "                \n",
    "                inventory_ratio = vong_quay_hang_ton_kho(df.loc[df['Mã'] == b, f'KQKD. Doanh thu thuần {year}'].values[0],df.loc[df['Mã'] == b, f'CĐKT. Hàng tồn kho, ròng {year}'].values[0]) \n",
    "                DSO_ratio = ky_thu_tien_binh_quan(AR, df.loc[df['Mã'] == b, f'KQKD. Doanh thu thuần {year}'].values[0])\n",
    "    \n",
    "                inventory_ratios.append(inventory_ratio)\n",
    "                DSO_ratios.append(DSO_ratio)\n",
    "                \n",
    "                FA_turnover_ratio = vong_quay_TTS(df.loc[df['Mã'] == b, f'KQKD. Doanh thu thuần {year}'].values[0], (df.loc[df['Mã'] == b, f'CĐKT. Tài sản cố định {year}'].values[0] - df.loc[df['Mã'] == b, f'LCTT. Khấu hao TSCĐ   {year}'].values[0]))\n",
    "                TA_turnover_ratio = vong_quay_TTS(df.loc[df['Mã'] == b, f'KQKD. Doanh thu thuần {year}'].values[0], df.loc[df['Mã'] == b, f'CĐKT. TỔNG CỘNG TÀI SẢN {year}'].values[0])\n",
    "            \n",
    "                FA_turnover_ratios.append(FA_turnover_ratio)\n",
    "                TA_turnover_ratios.append(TA_turnover_ratio)\n",
    "                \n",
    "            except IndexError:\n",
    "                print(f\"Giá trị {b} không tồn tại trong cột 'Mã'.\")\n",
    "    \n",
    "        # Customize the plot\n",
    "        plt.figure(figsize=(10, 6))  # Adjust the figure size as desired\n",
    "        bar_width = 0.2  # Adjust the width of the bars\n",
    "        opacity = 0.8  # Adjust the opacity of the bars\n",
    "        \n",
    "        # Create index for the bars\n",
    "        index = np.arange(len(selected_years))\n",
    "        \n",
    "        # Plotting the grouped bar chart\n",
    "        plt.bar(index, DSO_ratios, bar_width, alpha=opacity, label='DSO Ratio')\n",
    "        plt.bar(index + bar_width, inventory_ratios, bar_width, alpha=opacity, label='Inventory Ratio')\n",
    "        plt.bar(index + 2 * bar_width, TA_turnover_ratios, bar_width, alpha=opacity, label='TA_turnover Ratio')\n",
    "        plt.bar(index + 3 * bar_width, FA_turnover_ratios, bar_width, alpha=opacity, label='FA_turnover Ratio')\n",
    "        \n",
    "        plt.xlabel('Năm')\n",
    "        plt.ylabel('Tỷ số thanh toán')\n",
    "        plt.title(f'Tỷ số quản lý tài sản của mã {b}')\n",
    "        plt.xticks(index + 1.5 * bar_width, selected_years)\n",
    "        plt.legend()\n",
    "        plt.grid(True)  # Add grid lines for better readability\n",
    "        plt.show()\n",
    "    else: \n",
    "        print('')"
   ],
   "metadata": {
    "collapsed": false,
    "ExecuteTime": {
     "end_time": "2023-12-14T15:11:44.939430900Z",
     "start_time": "2023-12-14T15:11:44.667443200Z"
    }
   },
   "id": "afd973a37dd41322"
  },
  {
   "cell_type": "code",
   "execution_count": 28,
   "outputs": [
    {
     "data": {
      "text/plain": "<Figure size 640x480 with 1 Axes>",
      "image/png": "[encoded data removed]"
     },
     "metadata": {},
     "output_type": "display_data"
    }
   ],
   "source": [
    " if hienkq.value:\n",
    "    if 'Management' in select_variable.value:\n",
    "        b = df.loc[df['Mã'] == symbol_to_lookup, 'Mã'].values[0]\n",
    "    \n",
    "        start_year = 2018\n",
    "        end_year = 2022\n",
    "    \n",
    "        selected_years = range(start_year, end_year + 1)\n",
    "        current_ratios = []\n",
    "        quick_ratios = []\n",
    "    \n",
    "        for year in selected_years:\n",
    "            try:\n",
    "                current_ratio = tinh_ty_so_thanh_toan_hien_hanh(df.loc[df['Mã'] == b, f'CĐKT. TÀI SẢN NGẮN HẠN {year}'].values[0], df.loc[df['Mã'] == b, f'CĐKT. TỔNG CỘNG TÀI SẢN {year}'].values[0])\n",
    "                quick_ratio = tinh_ty_so_thanh_toan_nhanh(df.loc[df['Mã'] == b, f'CĐKT. TÀI SẢN NGẮN HẠN {year}'].values[0], df.loc[df['Mã'] == b, f'CĐKT. TỔNG CỘNG TÀI SẢN {year}'].values[0], df.loc[df['Mã'] == b, f'CĐKT. Hàng tồn kho, ròng {year}'].values[0])\n",
    "    \n",
    "                current_ratios.append(current_ratio)\n",
    "                quick_ratios.append(quick_ratio)\n",
    "\n",
    "    \n",
    "            except IndexError:\n",
    "                print(f\"Giá trị {b} không tồn tại trong cột 'Mã'.\")\n",
    "    \n",
    "        plt.plot(selected_years, current_ratios, marker='o', label='Current Ratio')\n",
    "        plt.plot(selected_years, quick_ratios, marker='o', label='Quick Ratio')\n",
    "        plt.xlabel('Năm')\n",
    "        plt.ylabel('Tỷ số thanh toán')\n",
    "        plt.title(f'Biểu đồ Current Ratio và Quick Ratio của mã {b}')\n",
    "        plt.xticks(range(start_year, end_year + 1))\n",
    "        plt.legend()\n",
    "        plt.show()\n",
    " else:\n",
    "    print(\"\")"
   ],
   "metadata": {
    "collapsed": false,
    "ExecuteTime": {
     "end_time": "2023-12-14T15:11:45.156229700Z",
     "start_time": "2023-12-14T15:11:44.976524100Z"
    }
   },
   "id": "eb9f7992f82fb2c8"
  },
  {
   "cell_type": "code",
   "execution_count": 28,
   "outputs": [],
   "source": [],
   "metadata": {
    "collapsed": false,
    "ExecuteTime": {
     "end_time": "2023-12-14T15:11:45.170816400Z",
     "start_time": "2023-12-14T15:11:45.150466800Z"
    }
   },
   "id": "fcf7046b17a333d8"
  }
 ],
 "metadata": {
  "kernelspec": {
   "display_name": "Python 3",
   "language": "python",
   "name": "python3"
  },
  "language_info": {
   "codemirror_mode": {
    "name": "ipython",
    "version": 2
   },
   "file_extension": ".py",
   "mimetype": "text/x-python",
   "name": "python",
   "nbconvert_exporter": "python",
   "pygments_lexer": "ipython2",
   "version": "2.7.6"
  }
 },
 "nbformat": 4,
 "nbformat_minor": 5
}
